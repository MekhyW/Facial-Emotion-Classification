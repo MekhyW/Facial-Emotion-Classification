{
 "cells": [
  {
   "cell_type": "code",
   "execution_count": 1,
   "metadata": {},
   "outputs": [],
   "source": [
    "import numpy as np\n",
    "import cv2\n",
    "import mediapipe as mp\n",
    "import pandas as pd\n",
    "import os\n",
    "import math"
   ]
  },
  {
   "cell_type": "code",
   "execution_count": 2,
   "metadata": {},
   "outputs": [],
   "source": [
    "mp_face_mes = mp.solutions.face_mesh\n",
    "mp_drawing = mp.solutions.drawing_utils\n",
    "drawing_spec = mp_drawing.DrawingSpec(thickness=1, circle_radius=1)\n",
    "face_mesh = mp_face_mes.FaceMesh(max_num_faces=1, refine_landmarks=True, min_detection_confidence=0.33, min_tracking_confidence=0.33)"
   ]
  },
  {
   "cell_type": "code",
   "execution_count": 3,
   "metadata": {},
   "outputs": [
    {
     "name": "stdout",
     "output_type": "stream",
     "text": [
      "320 277\n"
     ]
    }
   ],
   "source": [
    "images_open = os.listdir('mouth_open')\n",
    "images_closed = os.listdir('mouth_closed')\n",
    "\n",
    "print(len(images_open), len(images_closed))"
   ]
  },
  {
   "cell_type": "code",
   "execution_count": 4,
   "metadata": {},
   "outputs": [],
   "source": [
    "def update_mesh_points(image):\n",
    "    try:\n",
    "        frame = image.copy()\n",
    "    except AttributeError:\n",
    "        return None\n",
    "    H, W, _ = frame.shape\n",
    "    results_mesh = face_mesh.process(frame)\n",
    "    if results_mesh.multi_face_landmarks:\n",
    "        mesh_points = np.array([np.multiply([p.x, p.y, p.z], [W, H, max(W, H)]).astype(int) for p in results_mesh.multi_face_landmarks[0].landmark])\n",
    "        return mesh_points\n",
    "    return None"
   ]
  },
  {
   "cell_type": "code",
   "execution_count": 5,
   "metadata": {},
   "outputs": [],
   "source": [
    "MOUTH = [78, 191, 80, 81, 82, 13, 312, 311, 310, 415, 308, 324, 318, 402, 317, 14, 87, 178, 88, 95]\n",
    "\n",
    "def calculate_mouth_area(mesh_points):\n",
    "    ex1, ex2 = mesh_points[78], mesh_points[308]\n",
    "    area = 0\n",
    "    for i in range(len(MOUTH) - 1):\n",
    "        area += (mesh_points[MOUTH[i], 0] * mesh_points[MOUTH[i + 1], 1]) - (mesh_points[MOUTH[i + 1], 0] * mesh_points[MOUTH[i], 1])\n",
    "    area = abs(area / (2*(math.sqrt((ex1[0]-ex2[0])**2 + (ex1[1]-ex2[1])**2)**2)))\n",
    "    return area\n",
    "\n",
    "def calculate_width_over_height(mesh_points):\n",
    "    ex1 = mesh_points[78]\n",
    "    ex2 = mesh_points[308]\n",
    "    ey1 = mesh_points[13]\n",
    "    ey2 = mesh_points[14]\n",
    "    try:\n",
    "        reason = math.sqrt((ex1[0]-ex2[0])**2+(ex1[1]-ex2[1])**2+(ex1[2]-ex2[2])**2)/math.sqrt((ey1[0]-ey2[0])**2+(ey1[1]-ey2[1])**2+(ey1[2]-ey2[2])**2)\n",
    "        if reason > 100: reason = 100\n",
    "    except ZeroDivisionError:\n",
    "        reason = 100\n",
    "    return reason\n",
    "\n",
    "def get_features(frame):\n",
    "    mesh_points = update_mesh_points(frame)\n",
    "    if mesh_points is None:\n",
    "        return None\n",
    "    area = calculate_mouth_area(mesh_points)\n",
    "    reason = calculate_width_over_height(mesh_points)\n",
    "    return (area, reason)"
   ]
  },
  {
   "cell_type": "code",
   "execution_count": 6,
   "metadata": {},
   "outputs": [],
   "source": [
    "def resize_if_too_small(photo):\n",
    "    if photo.shape[0] < 300 and photo.shape[1] < 300:\n",
    "        photo = cv2.resize(photo, (300, 300), interpolation = cv2.INTER_CUBIC)\n",
    "    return photo"
   ]
  },
  {
   "cell_type": "code",
   "execution_count": 7,
   "metadata": {},
   "outputs": [
    {
     "name": "stdout",
     "output_type": "stream",
     "text": [
      "Processing open images...\n",
      "Processing closed images...\n"
     ]
    }
   ],
   "source": [
    "results_open = []\n",
    "results_closed = []\n",
    "\n",
    "print('Processing open images...')\n",
    "for image in images_open:\n",
    "    frame = cv2.imread('mouth_open/'+image)\n",
    "    if frame is None:\n",
    "        continue\n",
    "    frame = resize_if_too_small(frame)\n",
    "    result = get_features(frame)\n",
    "    if result:\n",
    "        results_open.append((result[0], result[1]))\n",
    "\n",
    "print('Processing closed images...')\n",
    "for image in images_closed:\n",
    "    frame = cv2.imread('mouth_closed/'+image)\n",
    "    if frame is None:\n",
    "        continue\n",
    "    frame = resize_if_too_small(frame)\n",
    "    result = get_features(frame)\n",
    "    if result:\n",
    "        results_closed.append((result[0], result[1]))"
   ]
  },
  {
   "cell_type": "code",
   "execution_count": 8,
   "metadata": {},
   "outputs": [
    {
     "name": "stdout",
     "output_type": "stream",
     "text": [
      "244 193\n"
     ]
    }
   ],
   "source": [
    "print(len(results_open), len(results_closed))"
   ]
  },
  {
   "cell_type": "code",
   "execution_count": 9,
   "metadata": {},
   "outputs": [],
   "source": [
    "results_open = np.array(results_open)\n",
    "results_closed = np.array(results_closed)"
   ]
  },
  {
   "cell_type": "code",
   "execution_count": 10,
   "metadata": {},
   "outputs": [
    {
     "name": "stdout",
     "output_type": "stream",
     "text": [
      "<class 'pandas.core.frame.DataFrame'>\n",
      "Index: 437 entries, 0 to 436\n",
      "Data columns (total 3 columns):\n",
      " #   Column                 Non-Null Count  Dtype  \n",
      "---  ------                 --------------  -----  \n",
      " 0   normalized_mouth_area  437 non-null    float64\n",
      " 1   width_over_height      437 non-null    float64\n",
      " 2   label                  437 non-null    object \n",
      "dtypes: float64(2), object(1)\n",
      "memory usage: 13.7+ KB\n"
     ]
    }
   ],
   "source": [
    "df = pd.DataFrame(columns=['normalized_mouth_area', 'width_over_height', 'label'])\n",
    "\n",
    "for value in results_open:\n",
    "    df.loc[len(df)] = {'normalized_mouth_area': value[0], 'width_over_height': value[1], 'label': 'open'}\n",
    "for value in results_closed:\n",
    "    df.loc[len(df)] = {'normalized_mouth_area': value[0], 'width_over_height': value[1], 'label': 'closed'}\n",
    "\n",
    "df.info()"
   ]
  },
  {
   "cell_type": "code",
   "execution_count": 11,
   "metadata": {},
   "outputs": [
    {
     "data": {
      "text/html": [
       "<div>\n",
       "<style scoped>\n",
       "    .dataframe tbody tr th:only-of-type {\n",
       "        vertical-align: middle;\n",
       "    }\n",
       "\n",
       "    .dataframe tbody tr th {\n",
       "        vertical-align: top;\n",
       "    }\n",
       "\n",
       "    .dataframe thead th {\n",
       "        text-align: right;\n",
       "    }\n",
       "</style>\n",
       "<table border=\"1\" class=\"dataframe\">\n",
       "  <thead>\n",
       "    <tr style=\"text-align: right;\">\n",
       "      <th></th>\n",
       "      <th>normalized_mouth_area</th>\n",
       "      <th>width_over_height</th>\n",
       "      <th>label</th>\n",
       "    </tr>\n",
       "  </thead>\n",
       "  <tbody>\n",
       "    <tr>\n",
       "      <th>0</th>\n",
       "      <td>0.227025</td>\n",
       "      <td>2.506402</td>\n",
       "      <td>open</td>\n",
       "    </tr>\n",
       "    <tr>\n",
       "      <th>1</th>\n",
       "      <td>0.409836</td>\n",
       "      <td>100.000000</td>\n",
       "      <td>open</td>\n",
       "    </tr>\n",
       "    <tr>\n",
       "      <th>2</th>\n",
       "      <td>0.375000</td>\n",
       "      <td>100.000000</td>\n",
       "      <td>open</td>\n",
       "    </tr>\n",
       "    <tr>\n",
       "      <th>3</th>\n",
       "      <td>0.392562</td>\n",
       "      <td>100.000000</td>\n",
       "      <td>open</td>\n",
       "    </tr>\n",
       "    <tr>\n",
       "      <th>4</th>\n",
       "      <td>0.196721</td>\n",
       "      <td>4.135215</td>\n",
       "      <td>open</td>\n",
       "    </tr>\n",
       "    <tr>\n",
       "      <th>...</th>\n",
       "      <td>...</td>\n",
       "      <td>...</td>\n",
       "      <td>...</td>\n",
       "    </tr>\n",
       "    <tr>\n",
       "      <th>432</th>\n",
       "      <td>0.167047</td>\n",
       "      <td>24.643711</td>\n",
       "      <td>closed</td>\n",
       "    </tr>\n",
       "    <tr>\n",
       "      <th>433</th>\n",
       "      <td>0.162700</td>\n",
       "      <td>12.134661</td>\n",
       "      <td>closed</td>\n",
       "    </tr>\n",
       "    <tr>\n",
       "      <th>434</th>\n",
       "      <td>0.145841</td>\n",
       "      <td>15.357283</td>\n",
       "      <td>closed</td>\n",
       "    </tr>\n",
       "    <tr>\n",
       "      <th>435</th>\n",
       "      <td>0.194443</td>\n",
       "      <td>51.119957</td>\n",
       "      <td>closed</td>\n",
       "    </tr>\n",
       "    <tr>\n",
       "      <th>436</th>\n",
       "      <td>0.036475</td>\n",
       "      <td>5.140479</td>\n",
       "      <td>closed</td>\n",
       "    </tr>\n",
       "  </tbody>\n",
       "</table>\n",
       "<p>437 rows × 3 columns</p>\n",
       "</div>"
      ],
      "text/plain": [
       "     normalized_mouth_area  width_over_height   label\n",
       "0                 0.227025           2.506402    open\n",
       "1                 0.409836         100.000000    open\n",
       "2                 0.375000         100.000000    open\n",
       "3                 0.392562         100.000000    open\n",
       "4                 0.196721           4.135215    open\n",
       "..                     ...                ...     ...\n",
       "432               0.167047          24.643711  closed\n",
       "433               0.162700          12.134661  closed\n",
       "434               0.145841          15.357283  closed\n",
       "435               0.194443          51.119957  closed\n",
       "436               0.036475           5.140479  closed\n",
       "\n",
       "[437 rows x 3 columns]"
      ]
     },
     "execution_count": 11,
     "metadata": {},
     "output_type": "execute_result"
    }
   ],
   "source": [
    "df"
   ]
  },
  {
   "cell_type": "code",
   "execution_count": 12,
   "metadata": {},
   "outputs": [],
   "source": [
    "df.to_json('data.json', index=False)"
   ]
  }
 ],
 "metadata": {
  "kernelspec": {
   "display_name": "Python 3",
   "language": "python",
   "name": "python3"
  },
  "language_info": {
   "codemirror_mode": {
    "name": "ipython",
    "version": 3
   },
   "file_extension": ".py",
   "mimetype": "text/x-python",
   "name": "python",
   "nbconvert_exporter": "python",
   "pygments_lexer": "ipython3",
   "version": "3.10.11"
  },
  "orig_nbformat": 4
 },
 "nbformat": 4,
 "nbformat_minor": 2
}

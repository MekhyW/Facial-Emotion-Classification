{
 "cells": [
  {
   "cell_type": "code",
   "execution_count": 35,
   "metadata": {},
   "outputs": [],
   "source": [
    "import pandas as pd\n",
    "from sklearn.linear_model import LinearRegression, MultiTaskElasticNetCV, Lasso, Ridge, BayesianRidge, ARDRegression, PassiveAggressiveRegressor, TheilSenRegressor, HuberRegressor\n",
    "from sklearn.neighbors import KNeighborsRegressor\n",
    "from sklearn.multioutput import MultiOutputRegressor\n",
    "from sklearn.model_selection import train_test_split, GridSearchCV\n",
    "from sklearn.metrics import mean_squared_error, r2_score\n",
    "from sklearn.pipeline import Pipeline\n",
    "from sklearn.preprocessing import StandardScaler\n",
    "from sklearn.decomposition import PCA\n",
    "import matplotlib.pyplot as plt\n",
    "import seaborn as sns"
   ]
  },
  {
   "cell_type": "code",
   "execution_count": 2,
   "metadata": {},
   "outputs": [],
   "source": [
    "df_landmarks = pd.read_parquet('landmarks.parquet')\n",
    "df_target = pd.read_parquet('ground_truth.parquet')"
   ]
  },
  {
   "cell_type": "code",
   "execution_count": 3,
   "metadata": {},
   "outputs": [
    {
     "data": {
      "text/html": [
       "<div>\n",
       "<style scoped>\n",
       "    .dataframe tbody tr th:only-of-type {\n",
       "        vertical-align: middle;\n",
       "    }\n",
       "\n",
       "    .dataframe tbody tr th {\n",
       "        vertical-align: top;\n",
       "    }\n",
       "\n",
       "    .dataframe thead th {\n",
       "        text-align: right;\n",
       "    }\n",
       "</style>\n",
       "<table border=\"1\" class=\"dataframe\">\n",
       "  <thead>\n",
       "    <tr style=\"text-align: right;\">\n",
       "      <th></th>\n",
       "      <th>0</th>\n",
       "      <th>1</th>\n",
       "      <th>2</th>\n",
       "      <th>3</th>\n",
       "      <th>4</th>\n",
       "      <th>5</th>\n",
       "      <th>6</th>\n",
       "      <th>7</th>\n",
       "      <th>8</th>\n",
       "      <th>9</th>\n",
       "      <th>...</th>\n",
       "      <th>1426</th>\n",
       "      <th>1427</th>\n",
       "      <th>1428</th>\n",
       "      <th>1429</th>\n",
       "      <th>1430</th>\n",
       "      <th>1431</th>\n",
       "      <th>1432</th>\n",
       "      <th>1433</th>\n",
       "      <th>eye_Y</th>\n",
       "      <th>eye_X</th>\n",
       "    </tr>\n",
       "  </thead>\n",
       "  <tbody>\n",
       "    <tr>\n",
       "      <th>count</th>\n",
       "      <td>38322.000000</td>\n",
       "      <td>38322.000000</td>\n",
       "      <td>38322.000000</td>\n",
       "      <td>38322.000000</td>\n",
       "      <td>38322.000000</td>\n",
       "      <td>38322.000000</td>\n",
       "      <td>38322.000000</td>\n",
       "      <td>38322.000000</td>\n",
       "      <td>38322.000000</td>\n",
       "      <td>38322.000000</td>\n",
       "      <td>...</td>\n",
       "      <td>38322.000000</td>\n",
       "      <td>38322.000000</td>\n",
       "      <td>38322.000000</td>\n",
       "      <td>38322.000000</td>\n",
       "      <td>38322.000000</td>\n",
       "      <td>38322.000000</td>\n",
       "      <td>38322.000000</td>\n",
       "      <td>38322.000000</td>\n",
       "      <td>38322.000000</td>\n",
       "      <td>38322.000000</td>\n",
       "    </tr>\n",
       "    <tr>\n",
       "      <th>mean</th>\n",
       "      <td>0.004949</td>\n",
       "      <td>0.337747</td>\n",
       "      <td>0.239806</td>\n",
       "      <td>0.001509</td>\n",
       "      <td>0.081994</td>\n",
       "      <td>0.029109</td>\n",
       "      <td>0.003116</td>\n",
       "      <td>0.155725</td>\n",
       "      <td>0.226890</td>\n",
       "      <td>-0.069245</td>\n",
       "      <td>...</td>\n",
       "      <td>-0.546968</td>\n",
       "      <td>0.457124</td>\n",
       "      <td>0.335327</td>\n",
       "      <td>-0.474530</td>\n",
       "      <td>0.457124</td>\n",
       "      <td>0.415962</td>\n",
       "      <td>-0.402331</td>\n",
       "      <td>0.457124</td>\n",
       "      <td>-0.053986</td>\n",
       "      <td>0.082244</td>\n",
       "    </tr>\n",
       "    <tr>\n",
       "      <th>std</th>\n",
       "      <td>0.110199</td>\n",
       "      <td>0.076695</td>\n",
       "      <td>0.070121</td>\n",
       "      <td>0.014244</td>\n",
       "      <td>0.007628</td>\n",
       "      <td>0.012597</td>\n",
       "      <td>0.059346</td>\n",
       "      <td>0.034622</td>\n",
       "      <td>0.039309</td>\n",
       "      <td>0.042997</td>\n",
       "      <td>...</td>\n",
       "      <td>0.113583</td>\n",
       "      <td>0.141366</td>\n",
       "      <td>0.152586</td>\n",
       "      <td>0.107936</td>\n",
       "      <td>0.141366</td>\n",
       "      <td>0.153352</td>\n",
       "      <td>0.114008</td>\n",
       "      <td>0.141366</td>\n",
       "      <td>0.318821</td>\n",
       "      <td>0.317076</td>\n",
       "    </tr>\n",
       "    <tr>\n",
       "      <th>min</th>\n",
       "      <td>-0.635574</td>\n",
       "      <td>-0.063685</td>\n",
       "      <td>-0.080682</td>\n",
       "      <td>-0.085888</td>\n",
       "      <td>0.010556</td>\n",
       "      <td>-0.027518</td>\n",
       "      <td>-0.277414</td>\n",
       "      <td>-0.031903</td>\n",
       "      <td>0.036691</td>\n",
       "      <td>-0.255515</td>\n",
       "      <td>...</td>\n",
       "      <td>-1.004721</td>\n",
       "      <td>-0.299708</td>\n",
       "      <td>-0.480043</td>\n",
       "      <td>-0.899881</td>\n",
       "      <td>-0.299708</td>\n",
       "      <td>-0.378496</td>\n",
       "      <td>-0.861220</td>\n",
       "      <td>-0.299708</td>\n",
       "      <td>-0.999635</td>\n",
       "      <td>-0.989144</td>\n",
       "    </tr>\n",
       "    <tr>\n",
       "      <th>25%</th>\n",
       "      <td>-0.056458</td>\n",
       "      <td>0.286507</td>\n",
       "      <td>0.194058</td>\n",
       "      <td>-0.007283</td>\n",
       "      <td>0.077733</td>\n",
       "      <td>0.021842</td>\n",
       "      <td>-0.028806</td>\n",
       "      <td>0.132857</td>\n",
       "      <td>0.202571</td>\n",
       "      <td>-0.091489</td>\n",
       "      <td>...</td>\n",
       "      <td>-0.625973</td>\n",
       "      <td>0.371139</td>\n",
       "      <td>0.259630</td>\n",
       "      <td>-0.550252</td>\n",
       "      <td>0.371139</td>\n",
       "      <td>0.340622</td>\n",
       "      <td>-0.481415</td>\n",
       "      <td>0.371139</td>\n",
       "      <td>-0.267814</td>\n",
       "      <td>-0.068393</td>\n",
       "    </tr>\n",
       "    <tr>\n",
       "      <th>50%</th>\n",
       "      <td>0.007169</td>\n",
       "      <td>0.337807</td>\n",
       "      <td>0.245058</td>\n",
       "      <td>0.000000</td>\n",
       "      <td>0.082701</td>\n",
       "      <td>0.030231</td>\n",
       "      <td>0.000000</td>\n",
       "      <td>0.154817</td>\n",
       "      <td>0.229873</td>\n",
       "      <td>-0.071323</td>\n",
       "      <td>...</td>\n",
       "      <td>-0.556002</td>\n",
       "      <td>0.463132</td>\n",
       "      <td>0.341721</td>\n",
       "      <td>-0.484113</td>\n",
       "      <td>0.463132</td>\n",
       "      <td>0.425087</td>\n",
       "      <td>-0.411422</td>\n",
       "      <td>0.463132</td>\n",
       "      <td>-0.043277</td>\n",
       "      <td>0.083432</td>\n",
       "    </tr>\n",
       "    <tr>\n",
       "      <th>75%</th>\n",
       "      <td>0.065115</td>\n",
       "      <td>0.391454</td>\n",
       "      <td>0.288789</td>\n",
       "      <td>0.008294</td>\n",
       "      <td>0.086979</td>\n",
       "      <td>0.037570</td>\n",
       "      <td>0.033940</td>\n",
       "      <td>0.179444</td>\n",
       "      <td>0.252902</td>\n",
       "      <td>-0.049476</td>\n",
       "      <td>...</td>\n",
       "      <td>-0.480617</td>\n",
       "      <td>0.552601</td>\n",
       "      <td>0.421940</td>\n",
       "      <td>-0.410055</td>\n",
       "      <td>0.552601</td>\n",
       "      <td>0.503529</td>\n",
       "      <td>-0.335214</td>\n",
       "      <td>0.552601</td>\n",
       "      <td>0.159705</td>\n",
       "      <td>0.241324</td>\n",
       "    </tr>\n",
       "    <tr>\n",
       "      <th>max</th>\n",
       "      <td>0.687163</td>\n",
       "      <td>0.671962</td>\n",
       "      <td>0.576925</td>\n",
       "      <td>0.087527</td>\n",
       "      <td>0.126491</td>\n",
       "      <td>0.083747</td>\n",
       "      <td>0.311230</td>\n",
       "      <td>0.307837</td>\n",
       "      <td>0.455957</td>\n",
       "      <td>0.177384</td>\n",
       "      <td>...</td>\n",
       "      <td>0.571079</td>\n",
       "      <td>1.258492</td>\n",
       "      <td>0.952010</td>\n",
       "      <td>0.528248</td>\n",
       "      <td>1.258492</td>\n",
       "      <td>1.058322</td>\n",
       "      <td>0.656741</td>\n",
       "      <td>1.258492</td>\n",
       "      <td>0.986267</td>\n",
       "      <td>0.999055</td>\n",
       "    </tr>\n",
       "  </tbody>\n",
       "</table>\n",
       "<p>8 rows × 1436 columns</p>\n",
       "</div>"
      ],
      "text/plain": [
       "                  0             1             2             3             4  \\\n",
       "count  38322.000000  38322.000000  38322.000000  38322.000000  38322.000000   \n",
       "mean       0.004949      0.337747      0.239806      0.001509      0.081994   \n",
       "std        0.110199      0.076695      0.070121      0.014244      0.007628   \n",
       "min       -0.635574     -0.063685     -0.080682     -0.085888      0.010556   \n",
       "25%       -0.056458      0.286507      0.194058     -0.007283      0.077733   \n",
       "50%        0.007169      0.337807      0.245058      0.000000      0.082701   \n",
       "75%        0.065115      0.391454      0.288789      0.008294      0.086979   \n",
       "max        0.687163      0.671962      0.576925      0.087527      0.126491   \n",
       "\n",
       "                  5             6             7             8             9  \\\n",
       "count  38322.000000  38322.000000  38322.000000  38322.000000  38322.000000   \n",
       "mean       0.029109      0.003116      0.155725      0.226890     -0.069245   \n",
       "std        0.012597      0.059346      0.034622      0.039309      0.042997   \n",
       "min       -0.027518     -0.277414     -0.031903      0.036691     -0.255515   \n",
       "25%        0.021842     -0.028806      0.132857      0.202571     -0.091489   \n",
       "50%        0.030231      0.000000      0.154817      0.229873     -0.071323   \n",
       "75%        0.037570      0.033940      0.179444      0.252902     -0.049476   \n",
       "max        0.083747      0.311230      0.307837      0.455957      0.177384   \n",
       "\n",
       "       ...          1426          1427          1428          1429  \\\n",
       "count  ...  38322.000000  38322.000000  38322.000000  38322.000000   \n",
       "mean   ...     -0.546968      0.457124      0.335327     -0.474530   \n",
       "std    ...      0.113583      0.141366      0.152586      0.107936   \n",
       "min    ...     -1.004721     -0.299708     -0.480043     -0.899881   \n",
       "25%    ...     -0.625973      0.371139      0.259630     -0.550252   \n",
       "50%    ...     -0.556002      0.463132      0.341721     -0.484113   \n",
       "75%    ...     -0.480617      0.552601      0.421940     -0.410055   \n",
       "max    ...      0.571079      1.258492      0.952010      0.528248   \n",
       "\n",
       "               1430          1431          1432          1433         eye_Y  \\\n",
       "count  38322.000000  38322.000000  38322.000000  38322.000000  38322.000000   \n",
       "mean       0.457124      0.415962     -0.402331      0.457124     -0.053986   \n",
       "std        0.141366      0.153352      0.114008      0.141366      0.318821   \n",
       "min       -0.299708     -0.378496     -0.861220     -0.299708     -0.999635   \n",
       "25%        0.371139      0.340622     -0.481415      0.371139     -0.267814   \n",
       "50%        0.463132      0.425087     -0.411422      0.463132     -0.043277   \n",
       "75%        0.552601      0.503529     -0.335214      0.552601      0.159705   \n",
       "max        1.258492      1.058322      0.656741      1.258492      0.986267   \n",
       "\n",
       "              eye_X  \n",
       "count  38322.000000  \n",
       "mean       0.082244  \n",
       "std        0.317076  \n",
       "min       -0.989144  \n",
       "25%       -0.068393  \n",
       "50%        0.083432  \n",
       "75%        0.241324  \n",
       "max        0.999055  \n",
       "\n",
       "[8 rows x 1436 columns]"
      ]
     },
     "execution_count": 3,
     "metadata": {},
     "output_type": "execute_result"
    }
   ],
   "source": [
    "data = pd.merge(df_landmarks, df_target, left_index=True, right_index=True)\n",
    "data.describe()"
   ]
  },
  {
   "cell_type": "code",
   "execution_count": 4,
   "metadata": {},
   "outputs": [],
   "source": [
    "y = data[['eye_X', 'eye_Y']]\n",
    "X = data.drop(columns=['eye_X', 'eye_Y'])"
   ]
  },
  {
   "cell_type": "code",
   "execution_count": 5,
   "metadata": {},
   "outputs": [],
   "source": [
    "X_train, X_test, y_train, y_test = train_test_split(X, y, test_size=0.1, random_state=42)"
   ]
  },
  {
   "cell_type": "code",
   "execution_count": 30,
   "metadata": {},
   "outputs": [
    {
     "name": "stdout",
     "output_type": "stream",
     "text": [
      "Mean Squared Error: ['4.03%', '3.55%']\n",
      "R2 Score: ['60.74%', '65.6%']\n"
     ]
    }
   ],
   "source": [
    "pipeline_linear = Pipeline([\n",
    "    ('scaler', StandardScaler()),\n",
    "    ('pca', PCA(n_components=100)),\n",
    "    ('regression', LinearRegression())\n",
    "])\n",
    "pipeline_linear.fit(X_train, y_train)\n",
    "\n",
    "y_pred = pipeline_linear.predict(X_test)\n",
    "\n",
    "mse_linear = mean_squared_error(y_test, y_pred, multioutput='raw_values')\n",
    "r2_linear = r2_score(y_test, y_pred, multioutput='raw_values')\n",
    "print(\"Mean Squared Error:\", [str(round(x*100, 2))+'%' for x in mse_linear])\n",
    "print(\"R2 Score:\", [str(round(x*100, 2))+'%' for x in r2_linear])"
   ]
  },
  {
   "cell_type": "code",
   "execution_count": 31,
   "metadata": {},
   "outputs": [
    {
     "name": "stdout",
     "output_type": "stream",
     "text": [
      "Mean Squared Error: ['4.19%', '3.8%']\n",
      "R2 Score: ['59.16%', '63.21%']\n"
     ]
    }
   ],
   "source": [
    "pipeline_elasticnet = Pipeline([\n",
    "    ('scaler', StandardScaler()),\n",
    "    ('pca', PCA(n_components=100)),\n",
    "    ('regression', MultiTaskElasticNetCV(cv=10, random_state=42))\n",
    "])\n",
    "pipeline_elasticnet.fit(X_train, y_train)\n",
    "\n",
    "y_pred = pipeline_elasticnet.predict(X_test)\n",
    "\n",
    "mse_elasticnet = mean_squared_error(y_test, y_pred, multioutput='raw_values')\n",
    "r2_elasticnet = r2_score(y_test, y_pred, multioutput='raw_values')\n",
    "print(\"Mean Squared Error:\", [str(round(x*100, 2))+'%' for x in mse_elasticnet])\n",
    "print(\"R2 Score:\", [str(round(x*100, 2))+'%' for x in r2_elasticnet])"
   ]
  },
  {
   "cell_type": "code",
   "execution_count": 32,
   "metadata": {},
   "outputs": [
    {
     "name": "stdout",
     "output_type": "stream",
     "text": [
      "Mean Squared Error: ['4.07%', '3.65%']\n",
      "R2 Score: ['60.36%', '64.61%']\n"
     ]
    }
   ],
   "source": [
    "pipeline_lasso = Pipeline([\n",
    "    ('scaler', StandardScaler()),\n",
    "    ('pca', PCA(n_components=100)),\n",
    "    ('regression', Lasso(alpha=0.001))\n",
    "])\n",
    "pipeline_lasso.fit(X_train, y_train)\n",
    "\n",
    "y_pred = pipeline_lasso.predict(X_test)\n",
    "\n",
    "mse_lasso = mean_squared_error(y_test, y_pred, multioutput='raw_values')\n",
    "r2_lasso = r2_score(y_test, y_pred, multioutput='raw_values')\n",
    "print(\"Mean Squared Error:\", [str(round(x*100, 2))+'%' for x in mse_lasso])\n",
    "print(\"R2 Score:\", [str(round(x*100, 2))+'%' for x in r2_lasso])"
   ]
  },
  {
   "cell_type": "code",
   "execution_count": 33,
   "metadata": {},
   "outputs": [
    {
     "name": "stdout",
     "output_type": "stream",
     "text": [
      "Mean Squared Error: ['4.03%', '3.54%']\n",
      "R2 Score: ['60.77%', '65.67%']\n"
     ]
    }
   ],
   "source": [
    "pipeline_ridge = Pipeline([\n",
    "    ('scaler', StandardScaler()),\n",
    "    ('pca', PCA(n_components=100)),\n",
    "    ('regression', Ridge(alpha=0.001))\n",
    "])\n",
    "pipeline_ridge.fit(X_train, y_train)\n",
    "\n",
    "y_pred = pipeline_ridge.predict(X_test)\n",
    "\n",
    "mse_ridge = mean_squared_error(y_test, y_pred, multioutput='raw_values')\n",
    "r2_ridge = r2_score(y_test, y_pred, multioutput='raw_values')\n",
    "print(\"Mean Squared Error:\", [str(round(x*100, 2))+'%' for x in mse_ridge])\n",
    "print(\"R2 Score:\", [str(round(x*100, 2))+'%' for x in r2_ridge])"
   ]
  },
  {
   "cell_type": "code",
   "execution_count": 34,
   "metadata": {},
   "outputs": [
    {
     "name": "stdout",
     "output_type": "stream",
     "text": [
      "Mean Squared Error: ['4.02%', '3.55%']\n",
      "R2 Score: ['60.78%', '65.6%']\n"
     ]
    }
   ],
   "source": [
    "pipeline_bayesianridge = Pipeline([\n",
    "    ('scaler', StandardScaler()),\n",
    "    ('pca', PCA(n_components=100)),\n",
    "    ('regression', MultiOutputRegressor(BayesianRidge()))\n",
    "])\n",
    "pipeline_bayesianridge.fit(X_train, y_train)\n",
    "\n",
    "y_pred = pipeline_bayesianridge.predict(X_test)\n",
    "\n",
    "mse_bayesianridge = mean_squared_error(y_test, y_pred, multioutput='raw_values')\n",
    "r2_bayesianridge = r2_score(y_test, y_pred, multioutput='raw_values')\n",
    "print(\"Mean Squared Error:\", [str(round(x*100, 2))+'%' for x in mse_bayesianridge])\n",
    "print(\"R2 Score:\", [str(round(x*100, 2))+'%' for x in r2_bayesianridge])"
   ]
  },
  {
   "cell_type": "code",
   "execution_count": 39,
   "metadata": {},
   "outputs": [
    {
     "name": "stdout",
     "output_type": "stream",
     "text": [
      "Mean Squared Error: ['6.18%', '6.01%']\n",
      "R2 Score: ['39.75%', '41.74%']\n"
     ]
    }
   ],
   "source": [
    "pipeline_ard = Pipeline([\n",
    "    ('scaler', StandardScaler()),\n",
    "    ('pca', PCA(n_components=100)),\n",
    "    ('regression', MultiOutputRegressor(ARDRegression()))\n",
    "])\n",
    "pipeline_ard.fit(X_train, y_train)\n",
    "\n",
    "y_pred = pipeline_ard.predict(X_test)\n",
    "\n",
    "mse_ard = mean_squared_error(y_test, y_pred, multioutput='raw_values')\n",
    "r2_ard = r2_score(y_test, y_pred, multioutput='raw_values')\n",
    "print(\"Mean Squared Error:\", [str(round(x*100, 2))+'%' for x in mse_ard])\n",
    "print(\"R2 Score:\", [str(round(x*100, 2))+'%' for x in r2_ard])"
   ]
  },
  {
   "cell_type": "code",
   "execution_count": 45,
   "metadata": {},
   "outputs": [
    {
     "name": "stdout",
     "output_type": "stream",
     "text": [
      "Mean Squared Error: ['6.14%', '6.28%']\n",
      "R2 Score: ['40.19%', '39.1%']\n"
     ]
    }
   ],
   "source": [
    "pipeline_passiveaggressive = Pipeline([\n",
    "    ('scaler', StandardScaler()),\n",
    "    ('pca', PCA(n_components=100)),\n",
    "    ('regression', MultiOutputRegressor(PassiveAggressiveRegressor(C=1, validation_fraction=0.1, random_state=42)))\n",
    "])\n",
    "pipeline_passiveaggressive.fit(X_train, y_train)\n",
    "\n",
    "y_pred = pipeline_passiveaggressive.predict(X_test)\n",
    "\n",
    "mse_passiveaggressive = mean_squared_error(y_test, y_pred, multioutput='raw_values')\n",
    "r2_passiveaggressive = r2_score(y_test, y_pred, multioutput='raw_values')\n",
    "print(\"Mean Squared Error:\", [str(round(x*100, 2))+'%' for x in mse_passiveaggressive])\n",
    "print(\"R2 Score:\", [str(round(x*100, 2))+'%' for x in r2_passiveaggressive])"
   ]
  },
  {
   "cell_type": "code",
   "execution_count": 47,
   "metadata": {},
   "outputs": [
    {
     "name": "stdout",
     "output_type": "stream",
     "text": [
      "Mean Squared Error: ['4.18%', '3.86%']\n",
      "R2 Score: ['59.29%', '62.55%']\n"
     ]
    }
   ],
   "source": [
    "pipeline_theilsen = Pipeline([\n",
    "    ('scaler', StandardScaler()),\n",
    "    ('pca', PCA(n_components=100)),\n",
    "    ('regression', MultiOutputRegressor(TheilSenRegressor(max_subpopulation=5000, random_state=42)))\n",
    "])\n",
    "\n",
    "pipeline_theilsen.fit(X_train, y_train)\n",
    "\n",
    "y_pred = pipeline_theilsen.predict(X_test)\n",
    "\n",
    "mse_theilsen = mean_squared_error(y_test, y_pred, multioutput='raw_values')\n",
    "r2_theilsen = r2_score(y_test, y_pred, multioutput='raw_values')\n",
    "print(\"Mean Squared Error:\", [str(round(x*100, 2))+'%' for x in mse_theilsen])\n",
    "print(\"R2 Score:\", [str(round(x*100, 2))+'%' for x in r2_theilsen])"
   ]
  },
  {
   "cell_type": "code",
   "execution_count": 50,
   "metadata": {},
   "outputs": [
    {
     "name": "stderr",
     "output_type": "stream",
     "text": [
      "C:\\Users\\felip\\AppData\\Roaming\\Python\\Python310\\site-packages\\sklearn\\linear_model\\_huber.py:342: ConvergenceWarning: lbfgs failed to converge (status=1):\n",
      "STOP: TOTAL NO. of ITERATIONS REACHED LIMIT.\n",
      "\n",
      "Increase the number of iterations (max_iter) or scale the data as shown in:\n",
      "    https://scikit-learn.org/stable/modules/preprocessing.html\n",
      "  self.n_iter_ = _check_optimize_result(\"lbfgs\", opt_res, self.max_iter)\n"
     ]
    },
    {
     "name": "stdout",
     "output_type": "stream",
     "text": [
      "Mean Squared Error: ['4.07%', '3.65%']\n",
      "R2 Score: ['60.3%', '64.67%']\n"
     ]
    },
    {
     "name": "stderr",
     "output_type": "stream",
     "text": [
      "C:\\Users\\felip\\AppData\\Roaming\\Python\\Python310\\site-packages\\sklearn\\linear_model\\_huber.py:342: ConvergenceWarning: lbfgs failed to converge (status=1):\n",
      "STOP: TOTAL NO. of ITERATIONS REACHED LIMIT.\n",
      "\n",
      "Increase the number of iterations (max_iter) or scale the data as shown in:\n",
      "    https://scikit-learn.org/stable/modules/preprocessing.html\n",
      "  self.n_iter_ = _check_optimize_result(\"lbfgs\", opt_res, self.max_iter)\n"
     ]
    }
   ],
   "source": [
    "pipeline_huber = Pipeline([\n",
    "    ('scaler', StandardScaler()),\n",
    "    ('pca', PCA(n_components=100)),\n",
    "    ('regression', MultiOutputRegressor(HuberRegressor(epsilon=1.35)))\n",
    "])\n",
    "pipeline_huber.fit(X_train, y_train)\n",
    "\n",
    "y_pred = pipeline_huber.predict(X_test)\n",
    "\n",
    "mse_huber = mean_squared_error(y_test, y_pred, multioutput='raw_values')\n",
    "r2_huber = r2_score(y_test, y_pred, multioutput='raw_values')\n",
    "print(\"Mean Squared Error:\", [str(round(x*100, 2))+'%' for x in mse_huber])\n",
    "print(\"R2 Score:\", [str(round(x*100, 2))+'%' for x in r2_huber])"
   ]
  },
  {
   "cell_type": "code",
   "execution_count": 54,
   "metadata": {},
   "outputs": [
    {
     "name": "stdout",
     "output_type": "stream",
     "text": [
      "Mean Squared Error: ['7.21%', '5.51%']\n",
      "R2 Score: ['29.74%', '46.59%']\n"
     ]
    }
   ],
   "source": [
    "grid_kneighbors = {\n",
    "    'regression__estimator__n_neighbors': [7, 9, 11, 13, 15],\n",
    "    'regression__estimator__weights': ['uniform', 'distance'],\n",
    "    'regression__estimator__leaf_size': [10, 20, 30, 40, 50]\n",
    "}\n",
    "\n",
    "pipeline_kneighbors = Pipeline([\n",
    "    ('scaler', StandardScaler()),\n",
    "    ('pca', PCA(n_components=100)),\n",
    "    ('regression', MultiOutputRegressor(KNeighborsRegressor()))\n",
    "])\n",
    "\n",
    "grid_search_kneighbors = GridSearchCV(pipeline_kneighbors, grid_kneighbors, cv=3)\n",
    "grid_search_kneighbors.fit(X_train, y_train)\n",
    "\n",
    "y_pred = grid_search_kneighbors.predict(X_test)\n",
    "\n",
    "mse_kneighbors = mean_squared_error(y_test, y_pred, multioutput='raw_values')\n",
    "r2_kneighbors = r2_score(y_test, y_pred, multioutput='raw_values')\n",
    "print(\"Mean Squared Error:\", [str(round(x*100, 2))+'%' for x in mse_kneighbors])\n",
    "print(\"R2 Score:\", [str(round(x*100, 2))+'%' for x in r2_kneighbors])"
   ]
  },
  {
   "cell_type": "code",
   "execution_count": 55,
   "metadata": {},
   "outputs": [
    {
     "name": "stdout",
     "output_type": "stream",
     "text": [
      "{'regression__estimator__leaf_size': 20, 'regression__estimator__n_neighbors': 15, 'regression__estimator__weights': 'distance'}\n"
     ]
    }
   ],
   "source": [
    "print(grid_search_kneighbors.best_params_)"
   ]
  },
  {
   "cell_type": "code",
   "execution_count": 56,
   "metadata": {},
   "outputs": [
    {
     "data": {
      "image/png": "[encoded data removed]",
      "text/plain": [
       "<Figure size 1200x500 with 2 Axes>"
      ]
     },
     "metadata": {},
     "output_type": "display_data"
    }
   ],
   "source": [
    "# Graphing results of the best model\n",
    "\n",
    "fig, axes = plt.subplots(1, 2, figsize=(12, 5))\n",
    "sns.set(style=\"whitegrid\")\n",
    "\n",
    "sns.barplot(x=[\"eye_X\", \"eye_Y\"], y=mse_bayesianridge, ax=axes[0])\n",
    "axes[0].set_title('Mean Squared Error (MSE)')\n",
    "axes[0].set_ylabel('MSE')\n",
    "\n",
    "sns.barplot(x=[\"eye_X\", \"eye_Y\"], y=r2_bayesianridge, ax=axes[1])\n",
    "axes[1].set_title('R-squared (R²)')\n",
    "axes[1].set_ylabel('R²')\n",
    "\n",
    "plt.tight_layout()\n",
    "plt.show()"
   ]
  },
  {
   "cell_type": "code",
   "execution_count": 58,
   "metadata": {},
   "outputs": [],
   "source": [
    "import pickle\n",
    "\n",
    "with open('gaze_regressor.pkl', 'wb') as f:\n",
    "    pickle.dump(pipeline_bayesianridge, f)"
   ]
  }
 ],
 "metadata": {
  "kernelspec": {
   "display_name": "Python 3",
   "language": "python",
   "name": "python3"
  },
  "language_info": {
   "codemirror_mode": {
    "name": "ipython",
    "version": 3
   },
   "file_extension": ".py",
   "mimetype": "text/x-python",
   "name": "python",
   "nbconvert_exporter": "python",
   "pygments_lexer": "ipython3",
   "version": "3.10.11"
  }
 },
 "nbformat": 4,
 "nbformat_minor": 2
}

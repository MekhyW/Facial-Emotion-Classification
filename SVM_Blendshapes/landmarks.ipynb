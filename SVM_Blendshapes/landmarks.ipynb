{
 "cells": [
  {
   "cell_type": "code",
   "execution_count": 1,
   "metadata": {},
   "outputs": [
    {
     "name": "stderr",
     "output_type": "stream",
     "text": [
      "C:\\Users\\felip\\AppData\\Roaming\\Python\\Python310\\site-packages\\scipy\\__init__.py:169: UserWarning: A NumPy version >=1.18.5 and <1.26.0 is required for this version of SciPy (detected version 1.26.4\n",
      "  warnings.warn(f\"A NumPy version >={np_minversion} and <{np_maxversion}\"\n"
     ]
    }
   ],
   "source": [
    "import mediapipe as mp\n",
    "from mediapipe.tasks import python\n",
    "from mediapipe.tasks.python import vision\n",
    "import numpy as np\n",
    "import cv2\n",
    "import pandas as pd\n",
    "import os\n",
    "import math"
   ]
  },
  {
   "cell_type": "code",
   "execution_count": 2,
   "metadata": {},
   "outputs": [],
   "source": [
    "base_options = python.BaseOptions(model_asset_path='face_landmarker_v2_with_blendshapes.task')\n",
    "options = vision.FaceLandmarkerOptions(base_options=base_options,\n",
    "                                       output_face_blendshapes=True,\n",
    "                                       num_faces=1)\n",
    "detector = vision.FaceLandmarker.create_from_options(options)"
   ]
  },
  {
   "cell_type": "code",
   "execution_count": 3,
   "metadata": {},
   "outputs": [
    {
     "name": "stdout",
     "output_type": "stream",
     "text": [
      "8391 8996 10004 7979 7988 7999\n"
     ]
    }
   ],
   "source": [
    "images_sad = os.listdir('../face_sad')\n",
    "images_happy = os.listdir('../face_happy')\n",
    "images_neutral = os.listdir('../face_neutral')\n",
    "images_angry = os.listdir('../face_angry')\n",
    "images_surprised = os.listdir('../face_surprised')\n",
    "images_disgusted = os.listdir('../face_disgusted')\n",
    "\n",
    "print(len(images_sad), len(images_happy), len(images_neutral), len(images_angry), len(images_surprised), len(images_disgusted))"
   ]
  },
  {
   "cell_type": "code",
   "execution_count": 4,
   "metadata": {},
   "outputs": [],
   "source": [
    "def normalize_landmarks(mesh):\n",
    "    nose_tip = mesh[4]\n",
    "    forehead = mesh[151]\n",
    "    scale_factor = math.sqrt(((nose_tip[0]-forehead[0])**2) + ((nose_tip[1]-forehead[1])**2) + ((nose_tip[2]-forehead[2])**2))\n",
    "    mesh_norm = []\n",
    "    for point in mesh:\n",
    "        dist = math.sqrt(((point[0]-forehead[0])**2) + ((point[1]-forehead[1])**2) + ((point[2]-forehead[2])**2))\n",
    "        point = dist/scale_factor\n",
    "        mesh_norm.append(point)\n",
    "    return mesh_norm"
   ]
  },
  {
   "cell_type": "code",
   "execution_count": 8,
   "metadata": {},
   "outputs": [],
   "source": [
    "def inference(image):\n",
    "    detection_result = detector.detect(image)\n",
    "    if detection_result is None or not len(detection_result.face_blendshapes):\n",
    "        return None\n",
    "    blendshapes = detection_result.face_blendshapes[0]\n",
    "    landmarks = detection_result.face_landmarks[0]\n",
    "    blendshapes_scores = [cat.score for cat in blendshapes]\n",
    "    mesh_points = np.array([[p.x, p.y, p.z] for p in landmarks])\n",
    "    normalized_mesh_points = normalize_landmarks(mesh_points)\n",
    "    return [*blendshapes_scores, *normalized_mesh_points]"
   ]
  },
  {
   "cell_type": "code",
   "execution_count": 6,
   "metadata": {},
   "outputs": [],
   "source": [
    "def resize_if_too_small(photo):\n",
    "    if photo.shape[0] < 300 and photo.shape[1] < 300:\n",
    "        photo = cv2.resize(photo, (300, 300), interpolation = cv2.INTER_CUBIC)\n",
    "    return photo"
   ]
  },
  {
   "cell_type": "code",
   "execution_count": 9,
   "metadata": {},
   "outputs": [],
   "source": [
    "def mount_data(image_names, folder):\n",
    "    data = []\n",
    "    for image in image_names:\n",
    "        try:\n",
    "            cv2image = cv2.imread(folder + image)\n",
    "            cv2image = resize_if_too_small(cv2image)\n",
    "            inferenceinput = mp.Image(image_format=mp.ImageFormat.SRGB, data=cv2image)\n",
    "        except (RuntimeError, AttributeError):\n",
    "            continue\n",
    "        inference_result = inference(inferenceinput)\n",
    "        if inference_result:\n",
    "            data.append(inference_result)\n",
    "    print(len(data))\n",
    "    return data"
   ]
  },
  {
   "cell_type": "code",
   "execution_count": 10,
   "metadata": {},
   "outputs": [
    {
     "name": "stdout",
     "output_type": "stream",
     "text": [
      "7050\n",
      "5190\n",
      "6764\n",
      "8475\n",
      "6708\n",
      "8247\n"
     ]
    }
   ],
   "source": [
    "data_surprised = mount_data(images_surprised, '../face_surprised/')\n",
    "data_disgusted = mount_data(images_disgusted, '../face_disgusted/')\n",
    "data_angry = mount_data(images_angry, '../face_angry/')\n",
    "data_happy = mount_data(images_happy, '../face_happy/')\n",
    "data_sad = mount_data(images_sad, '../face_sad/')\n",
    "data_neutral = mount_data(images_neutral, '../face_neutral/')"
   ]
  },
  {
   "cell_type": "code",
   "execution_count": 11,
   "metadata": {},
   "outputs": [],
   "source": [
    "df_sad = pd.DataFrame(data_sad)\n",
    "df_happy = pd.DataFrame(data_happy)\n",
    "df_neutral = pd.DataFrame(data_neutral)\n",
    "df_angry = pd.DataFrame(data_angry)\n",
    "df_surprise = pd.DataFrame(data_surprised)\n",
    "df_disgust = pd.DataFrame(data_disgusted)"
   ]
  },
  {
   "cell_type": "code",
   "execution_count": 12,
   "metadata": {},
   "outputs": [],
   "source": [
    "df_sad['label'] = 'sad'\n",
    "df_happy['label'] = 'happy'\n",
    "df_neutral['label'] = 'neutral'\n",
    "df_angry['label'] = 'angry'\n",
    "df_surprise['label'] = 'surprise'\n",
    "df_disgust['label'] = 'disgust'\n",
    "\n",
    "df = pd.concat([df_sad, df_happy, df_neutral, df_angry, df_surprise, df_disgust])\n",
    "df.to_csv('data.csv', index=False)"
   ]
  }
 ],
 "metadata": {
  "kernelspec": {
   "display_name": "Python 3",
   "language": "python",
   "name": "python3"
  },
  "language_info": {
   "codemirror_mode": {
    "name": "ipython",
    "version": 3
   },
   "file_extension": ".py",
   "mimetype": "text/x-python",
   "name": "python",
   "nbconvert_exporter": "python",
   "pygments_lexer": "ipython3",
   "version": "3.10.11"
  }
 },
 "nbformat": 4,
 "nbformat_minor": 2
}
